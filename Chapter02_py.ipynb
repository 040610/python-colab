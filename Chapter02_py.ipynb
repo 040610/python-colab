{
  "nbformat": 4,
  "nbformat_minor": 0,
  "metadata": {
    "colab": {
      "provenance": [],
      "authorship_tag": "ABX9TyPLCdXI43uTxL7GOgLYlbVV",
      "include_colab_link": true
    },
    "kernelspec": {
      "name": "python3",
      "display_name": "Python 3"
    },
    "language_info": {
      "name": "python"
    }
  },
  "cells": [
    {
      "cell_type": "markdown",
      "metadata": {
        "id": "view-in-github",
        "colab_type": "text"
      },
      "source": [
        "<a href=\"https://colab.research.google.com/github/040610/python-colab/blob/main/Chapter02_py.ipynb\" target=\"_parent\"><img src=\"https://colab.research.google.com/assets/colab-badge.svg\" alt=\"Open In Colab\"/></a>"
      ]
    },
    {
      "cell_type": "markdown",
      "source": [
        "# 02-1 자료형과 문자열"
      ],
      "metadata": {
        "id": "UY9qiIAMiyln"
      }
    },
    {
      "cell_type": "markdown",
      "source": [
        "## 문자열 만들기\n",
        "---\n",
        "\n"
      ],
      "metadata": {
        "id": "wnQq5xzUjdDq"
      }
    },
    {
      "cell_type": "code",
      "source": [
        "print(\"안녕하세요\")"
      ],
      "metadata": {
        "colab": {
          "base_uri": "https://localhost:8080/"
        },
        "id": "eGj6_TkQjH9i",
        "outputId": "d80f5c0e-e6e7-4a28-d86a-ad7fa7ccb6e4"
      },
      "execution_count": null,
      "outputs": [
        {
          "output_type": "stream",
          "name": "stdout",
          "text": [
            "안녕하세요\n"
          ]
        }
      ]
    },
    {
      "cell_type": "code",
      "source": [
        "print('안녕하세요')"
      ],
      "metadata": {
        "colab": {
          "base_uri": "https://localhost:8080/"
        },
        "id": "7frdLczRjzl6",
        "outputId": "64244add-a621-475a-8e15-3bc88470c89e"
      },
      "execution_count": null,
      "outputs": [
        {
          "output_type": "stream",
          "name": "stdout",
          "text": [
            "안녕하세요\n"
          ]
        }
      ]
    },
    {
      "cell_type": "code",
      "source": [
        "# print(\"\"안녕하세요\"라고 말했습니다\")는 문자열과 문자열을 단순하게 나열할 수 없다. 따라서 작은 따옴표로 넣으면 된다.\n",
        "# 작은따옴표를 넣고 싶은 경우는 반대로 작성하면 된다.\n",
        "\n",
        "print('\"안녕하세요\"라고 말했습니다')"
      ],
      "metadata": {
        "colab": {
          "base_uri": "https://localhost:8080/"
        },
        "id": "ByXp9hbWkAjq",
        "outputId": "e26646fe-fce5-44d5-ab81-f43a202bf3b2"
      },
      "execution_count": null,
      "outputs": [
        {
          "output_type": "stream",
          "name": "stdout",
          "text": [
            "\"안녕하세요\"라고 말했습니다\n"
          ]
        }
      ]
    },
    {
      "cell_type": "code",
      "source": [
        "print(\"'배가 고픕니다'라고 생각했습니다.\")"
      ],
      "metadata": {
        "colab": {
          "base_uri": "https://localhost:8080/"
        },
        "id": "iVsIXk4gktM9",
        "outputId": "bd6eb40b-e09d-4b6b-8725-d1474ac0dd89"
      },
      "execution_count": null,
      "outputs": [
        {
          "output_type": "stream",
          "name": "stdout",
          "text": [
            "'배가 고픕니다'라고 생각했습니다.\n"
          ]
        }
      ]
    },
    {
      "cell_type": "code",
      "source": [
        "print(\"\\\"안녕하세요\\\"라고 말했습니다\")"
      ],
      "metadata": {
        "colab": {
          "base_uri": "https://localhost:8080/"
        },
        "id": "gcyiUJZelM5D",
        "outputId": "89a1703d-be72-44ed-d277-ee5b37fccd62"
      },
      "execution_count": null,
      "outputs": [
        {
          "output_type": "stream",
          "name": "stdout",
          "text": [
            "\"안녕하세요\"라고 말했습니다\n"
          ]
        }
      ]
    },
    {
      "cell_type": "code",
      "source": [
        "print('\\'배가 고픕니다\\'라고 생각했습니다')"
      ],
      "metadata": {
        "colab": {
          "base_uri": "https://localhost:8080/"
        },
        "id": "Vzq99ZwRlZfO",
        "outputId": "27141221-92a6-42e7-82c3-364e6ed7073f"
      },
      "execution_count": null,
      "outputs": [
        {
          "output_type": "stream",
          "name": "stdout",
          "text": [
            "'배가 고픕니다'라고 생각했습니다\n"
          ]
        }
      ]
    },
    {
      "cell_type": "code",
      "source": [
        "# \\n: 줄바꿈을 의미\n",
        "print(\"안녕하세요\\n안녕하세요\")"
      ],
      "metadata": {
        "colab": {
          "base_uri": "https://localhost:8080/"
        },
        "id": "ZWcku5Rtljrr",
        "outputId": "9cd7be1b-f2b2-480c-83a5-2f7ca7afc8b0"
      },
      "execution_count": null,
      "outputs": [
        {
          "output_type": "stream",
          "name": "stdout",
          "text": [
            "안녕하세요\n",
            "안녕하세요\n"
          ]
        }
      ]
    },
    {
      "cell_type": "code",
      "source": [
        "# \\t: 탭을 의미\n",
        "print(\"안녕하세요\\t안녕하세요\")"
      ],
      "metadata": {
        "colab": {
          "base_uri": "https://localhost:8080/"
        },
        "id": "c_zh5Ta0lwGa",
        "outputId": "4bb55924-d158-4f28-9c2a-11466014b043"
      },
      "execution_count": null,
      "outputs": [
        {
          "output_type": "stream",
          "name": "stdout",
          "text": [
            "안녕하세요\t안녕하세요\n"
          ]
        }
      ]
    },
    {
      "cell_type": "code",
      "source": [
        "print(\"이름\\t나이\\t지역\")\n",
        "print(\"윤인성\\t25\\t강서구\")\n",
        "print(\"윤아린\\t24\\t강서구\")\n",
        "print(\"구름\\t3\\t강서구\")"
      ],
      "metadata": {
        "colab": {
          "base_uri": "https://localhost:8080/"
        },
        "id": "jI8G1fsal-1_",
        "outputId": "2daa0e50-36ae-4066-d772-12a88c3358fc"
      },
      "execution_count": null,
      "outputs": [
        {
          "output_type": "stream",
          "name": "stdout",
          "text": [
            "이름\t나이\t지역\n",
            "윤인성\t25\t강서구\n",
            "윤아린\t24\t강서구\n",
            "구름\t3\t강서구\n"
          ]
        }
      ]
    },
    {
      "cell_type": "code",
      "source": [
        "# \\\\:역슬래시를 의미\n",
        "print(\"\\\\ \\\\ \\\\ \\\\\")"
      ],
      "metadata": {
        "colab": {
          "base_uri": "https://localhost:8080/"
        },
        "id": "_2HoJLbZmOcq",
        "outputId": "68539dbc-45f2-4c72-cd6e-745405fa3a8d"
      },
      "execution_count": null,
      "outputs": [
        {
          "output_type": "stream",
          "name": "stdout",
          "text": [
            "\\ \\ \\ \\\n"
          ]
        }
      ]
    },
    {
      "cell_type": "code",
      "source": [
        "print(\"동해물과 백두산이 마르고 닳도록\\n하느님이 보우하사 우리나라 만세\\n무궁화 삼천리 화려강산 대한사람\\n대한으로 길이 보전하세\")"
      ],
      "metadata": {
        "colab": {
          "base_uri": "https://localhost:8080/"
        },
        "id": "np0w1Y6rmY_F",
        "outputId": "813f92ca-0f11-4077-cfdf-95eeb04ad90e"
      },
      "execution_count": null,
      "outputs": [
        {
          "output_type": "stream",
          "name": "stdout",
          "text": [
            "동해물과 백두산이 마르고 닳도록\n",
            "하느님이 보우하사 우리나라 만세\n",
            "무궁화 삼천리 화려강산 대한사람\n",
            "대한으로 길이 보전하세\n"
          ]
        }
      ]
    },
    {
      "cell_type": "code",
      "source": [
        "#여러 줄 문자열 기능 : 큰따옴표(\") 또는 작은따옴표(')를 세 번 반복한 기호를 사용\n",
        "print(\"\"\"동해물과 백두산이 마르고 닳도록\n",
        "하느님이 보우하사 우리나라 만세\n",
        "무궁화 삼천리 화려강산 대한사람\n",
        "대한으로 길이 보전하세\"\"\")"
      ],
      "metadata": {
        "colab": {
          "base_uri": "https://localhost:8080/"
        },
        "id": "mgj5_SC1mqE1",
        "outputId": "5b28e974-e975-4c1a-d6ed-a7a7e1d8f188"
      },
      "execution_count": null,
      "outputs": [
        {
          "output_type": "stream",
          "name": "stdout",
          "text": [
            "동해물과 백두산이 마르고 닳도록\n",
            "하느님이 보우하사 우리나라 만세\n",
            "무궁화 삼천리 화려강산 대한사람\n",
            "대한으로 길이 보전하세\n"
          ]
        }
      ]
    },
    {
      "cell_type": "code",
      "source": [
        "print(\"\"\"\n",
        "동해물과 백두산이 마르고 닳도록\n",
        "하느님이 보우하사 우리나라 만세\n",
        "무궁화 삼천리 화려강산 대한사람\n",
        "대한으로 길이 보전하세\"\"\")"
      ],
      "metadata": {
        "colab": {
          "base_uri": "https://localhost:8080/"
        },
        "id": "49IX9-W-nHk9",
        "outputId": "3d47cc0b-0e13-4589-cd8c-66b07c3ae716"
      },
      "execution_count": null,
      "outputs": [
        {
          "output_type": "stream",
          "name": "stdout",
          "text": [
            "\n",
            "동해물과 백두산이 마르고 닳도록\n",
            "하느님이 보우하사 우리나라 만세\n",
            "무궁화 삼천리 화려강산 대한사람\n",
            "대한으로 길이 보전하세\n"
          ]
        }
      ]
    },
    {
      "cell_type": "code",
      "source": [
        "#의도하지 않은 줄바꿈이 들어가지 않게 하려면 \\기호를 쓰면 된다.\n",
        "#즉, 코드를 쉽게 보려고 줄바꿈한 것이지 실질적인 줄바꿈이 아니다\n",
        "print(\"\"\"\\\n",
        "동해물과 백두산이 마르고 닳도록\n",
        "하느님이 보우하사 우리나라 만세\n",
        "무궁화 삼천리 화려강산 대한사람\n",
        "대한으로 길이 보전하세\\\n",
        "\"\"\")"
      ],
      "metadata": {
        "colab": {
          "base_uri": "https://localhost:8080/"
        },
        "id": "RNaDjhZbncA2",
        "outputId": "adc45d4b-74f2-4447-f0b5-1c952369d989"
      },
      "execution_count": null,
      "outputs": [
        {
          "output_type": "stream",
          "name": "stdout",
          "text": [
            "동해물과 백두산이 마르고 닳도록\n",
            "하느님이 보우하사 우리나라 만세\n",
            "무궁화 삼천리 화려강산 대한사람\n",
            "대한으로 길이 보전하세\n"
          ]
        }
      ]
    },
    {
      "cell_type": "code",
      "source": [
        "print(\"안녕\" + \"하세요\")"
      ],
      "metadata": {
        "colab": {
          "base_uri": "https://localhost:8080/"
        },
        "id": "A1xNIi6knwz1",
        "outputId": "918c3666-4574-41a4-8bf2-feb63d3cef92"
      },
      "execution_count": null,
      "outputs": [
        {
          "output_type": "stream",
          "name": "stdout",
          "text": [
            "안녕하세요\n"
          ]
        }
      ]
    },
    {
      "cell_type": "code",
      "source": [
        "print(\"안녕하세요\" + \"!\")"
      ],
      "metadata": {
        "colab": {
          "base_uri": "https://localhost:8080/"
        },
        "id": "_sN_OduqoPWK",
        "outputId": "a2bcc7be-9b46-4948-8961-bbbc05bf216e"
      },
      "execution_count": null,
      "outputs": [
        {
          "output_type": "stream",
          "name": "stdout",
          "text": [
            "안녕하세요!\n"
          ]
        }
      ]
    },
    {
      "cell_type": "code",
      "source": [
        "print(\"안녕하세요\" + 1)"
      ],
      "metadata": {
        "colab": {
          "base_uri": "https://localhost:8080/",
          "height": 147
        },
        "id": "EV81Gl_uoVVp",
        "outputId": "dbfa30f9-4d92-4f55-f3e2-2e7db5bf2fa4"
      },
      "execution_count": null,
      "outputs": [
        {
          "output_type": "error",
          "ename": "TypeError",
          "evalue": "can only concatenate str (not \"int\") to str",
          "traceback": [
            "\u001b[0;31m---------------------------------------------------------------------------\u001b[0m",
            "\u001b[0;31mTypeError\u001b[0m                                 Traceback (most recent call last)",
            "\u001b[0;32m<ipython-input-26-272ed8594ca8>\u001b[0m in \u001b[0;36m<cell line: 0>\u001b[0;34m()\u001b[0m\n\u001b[0;32m----> 1\u001b[0;31m \u001b[0mprint\u001b[0m\u001b[0;34m(\u001b[0m\u001b[0;34m\"안녕하세요\"\u001b[0m \u001b[0;34m+\u001b[0m \u001b[0;36m1\u001b[0m\u001b[0;34m)\u001b[0m\u001b[0;34m\u001b[0m\u001b[0;34m\u001b[0m\u001b[0m\n\u001b[0m",
            "\u001b[0;31mTypeError\u001b[0m: can only concatenate str (not \"int\") to str"
          ]
        }
      ]
    },
    {
      "cell_type": "code",
      "source": [
        "print(\"안녕하세요\" + \"1\")"
      ],
      "metadata": {
        "colab": {
          "base_uri": "https://localhost:8080/"
        },
        "id": "hf9WgOFJobbC",
        "outputId": "a165ea22-400d-4375-9011-4babb4f226b5"
      },
      "execution_count": null,
      "outputs": [
        {
          "output_type": "stream",
          "name": "stdout",
          "text": [
            "안녕하세요1\n"
          ]
        }
      ]
    },
    {
      "cell_type": "code",
      "source": [
        "#문자열 반본 연산자: *\n",
        "print(\"안녕하세요\" * 3)\n",
        "print(3 * \"안녕하세요\")"
      ],
      "metadata": {
        "colab": {
          "base_uri": "https://localhost:8080/"
        },
        "id": "s1Zlerj0omcy",
        "outputId": "59f456a5-f8d6-459c-999a-3275cac32e1a"
      },
      "execution_count": null,
      "outputs": [
        {
          "output_type": "stream",
          "name": "stdout",
          "text": [
            "안녕하세요안녕하세요안녕하세요\n",
            "안녕하세요안녕하세요안녕하세요\n"
          ]
        }
      ]
    },
    {
      "cell_type": "code",
      "source": [
        "#문자 선택 연산자(인덱싱): []\n",
        "print(\"문자 선택 연산자\")\n",
        "print(\"안녕하세요\"[0])\n",
        "print(\"안녕하세요\"[1])\n",
        "print(\"안녕하세요\"[2])\n",
        "print(\"안녕하세요\"[3])\n",
        "print(\"안녕하세요\"[4])\n",
        "print()\n",
        "print(\"안녕하세요\"[-1])\n",
        "print(\"안녕하세요\"[-2])\n",
        "print(\"안녕하세요\"[-3])\n",
        "print(\"안녕하세요\"[-4])\n",
        "print(\"안녕하세요\"[-5])"
      ],
      "metadata": {
        "colab": {
          "base_uri": "https://localhost:8080/"
        },
        "id": "Cx-DSSVOovBo",
        "outputId": "a7019f30-c9e7-4b87-9b86-9030f464091f"
      },
      "execution_count": null,
      "outputs": [
        {
          "output_type": "stream",
          "name": "stdout",
          "text": [
            "문자 선택 연산자\n",
            "안\n",
            "녕\n",
            "하\n",
            "세\n",
            "요\n",
            "\n",
            "요\n",
            "세\n",
            "하\n",
            "녕\n",
            "안\n"
          ]
        }
      ]
    },
    {
      "cell_type": "code",
      "source": [
        "#문자열 범위 선택 연산자(슬라이싱): [:]\n",
        "print(\"안녕하세요\"[1:4])\n",
        "print(\"안녕하세요\"[0:2])\n",
        "print(\"안녕하세요\"[1:3])\n",
        "print(\"안녕하세요\"[2:4])\n",
        "print(\"안녕하세요\"[1:])\n",
        "print(\"안녕하세요\"[:3])"
      ],
      "metadata": {
        "colab": {
          "base_uri": "https://localhost:8080/"
        },
        "id": "70VB0jrjqwej",
        "outputId": "6c24c914-4f81-49e5-94dc-039826f24757"
      },
      "execution_count": null,
      "outputs": [
        {
          "output_type": "stream",
          "name": "stdout",
          "text": [
            "녕하세\n",
            "안녕\n",
            "녕하\n",
            "하세\n",
            "녕하세요\n",
            "안녕하\n"
          ]
        }
      ]
    },
    {
      "cell_type": "code",
      "source": [
        "#문자열의 길이 구하기\n",
        "print(len(\"안녕하세요\"))"
      ],
      "metadata": {
        "colab": {
          "base_uri": "https://localhost:8080/"
        },
        "id": "9ccjEs-truet",
        "outputId": "b5274d6e-7370-4f0e-e3c0-4e6ed931449e"
      },
      "execution_count": null,
      "outputs": [
        {
          "output_type": "stream",
          "name": "stdout",
          "text": [
            "5\n"
          ]
        }
      ]
    },
    {
      "cell_type": "code",
      "source": [
        "print(\"\\\\\\\\\\\\\\\\\")"
      ],
      "metadata": {
        "colab": {
          "base_uri": "https://localhost:8080/"
        },
        "id": "jHCNNvsdpWsv",
        "outputId": "b85a7617-be92-448c-a1b3-51d6fd273520"
      },
      "execution_count": null,
      "outputs": [
        {
          "output_type": "stream",
          "name": "stdout",
          "text": [
            "\\\\\\\\\n"
          ]
        }
      ]
    }
  ]
}